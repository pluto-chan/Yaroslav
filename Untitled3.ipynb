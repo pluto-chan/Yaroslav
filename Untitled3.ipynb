{
 "cells": [
  {
   "cell_type": "code",
   "execution_count": 93,
   "metadata": {
    "collapsed": false
   },
   "outputs": [],
   "source": [
    "def format_num(some_num):\n",
    "    sm_friendly_num = \"{:.6f}\".format(some_num)\n",
    "    return sm_friendly_num"
   ]
  },
  {
   "cell_type": "code",
   "execution_count": 94,
   "metadata": {
    "collapsed": false
   },
   "outputs": [],
   "source": [
    "def make_sm_header(title, track_name, offset, bpm, subtitle='', artist='', genre=''):\n",
    "    header_lines = ['#TITLE:' + title + ';',\n",
    "                    '#SUBTITLE:' + subtitle + ';',\n",
    "                    '#ARTIST:' + artist + ';',\n",
    "                    '#TITLETRANSLIT:;',\n",
    "                    '#SUBTITLETRANSLIT:;',\n",
    "                    '#ARTISTTRANSLIT:;',\n",
    "                    '#GENRE:' + genre + ';',\n",
    "                    '#CREDIT:AI;',\n",
    "                    \n",
    "                    '#BANNER:;',\n",
    "                    '#BACKGROUND:;',\n",
    "                    '#LYRICSPATH:;',\n",
    "                    '#CDTITLE:;',\n",
    "                    \n",
    "                    '#MUSIC:' + track_name + ';',\n",
    "                    '#OFFSET:' + format_num(offset) + ';',\n",
    "                    \n",
    "                    '#SAMPLESTART:0.000000;',\n",
    "                    '#SAMPLELENGTH:15.000000;',\n",
    "                    '#SELECTABLE:YES;',\n",
    "                    \n",
    "                    '#DISPLAYBPM:' + format_num(bpm) + ';',\n",
    "                    '#BPMS:0.000000=' + format_num(bpm) + ';',\n",
    "                    '#STOPS:;',\n",
    "\n",
    "                    '#BGCHANGES:;',\n",
    "                    '#KEYSOUNDS:;',\n",
    "                    '#ATTACKS:;',\n",
    "                    '',\n",
    "                    '//---------------dance-single - AI----------------',\n",
    "                    '#NOTES:',\n",
    "                    '\\tdance-single:',\n",
    "                    '\\tAI:',\n",
    "                    '\\tChallenge:',\n",
    "                    '\\t1488:',\n",
    "                    '\\t0,0,0,0,0:'\n",
    "                   ]\n",
    "    return header_lines\n"
   ]
  },
  {
   "cell_type": "code",
   "execution_count": 95,
   "metadata": {
    "collapsed": false
   },
   "outputs": [],
   "source": [
    "import random\n",
    "\n",
    "def make_measure(beats=8, measure_num=0, is_last=0):\n",
    "    random.seed()\n",
    "\n",
    "    measure = ['\\t// measure ' + str(measure_num)]\n",
    "    for i in range(beats):\n",
    "        pos = random.randint(0, 3)\n",
    "        beat = '0'*pos + '1' + '0'*(3-pos)\n",
    "        measure.append(beat)\n",
    "    if is_last:\n",
    "        measure.append(';')\n",
    "    else:\n",
    "        measure.append(',')            \n",
    "\n",
    "    return measure\n",
    "        "
   ]
  },
  {
   "cell_type": "code",
   "execution_count": 96,
   "metadata": {
    "collapsed": false
   },
   "outputs": [],
   "source": [
    "shit = make_sm_header('random not a romance', 'romance.ogg', -0.039, 164)\n"
   ]
  },
  {
   "cell_type": "code",
   "execution_count": 97,
   "metadata": {
    "collapsed": false
   },
   "outputs": [],
   "source": [
    "f = open('randomromance.sm', 'w')\n",
    "for s in shit:\n",
    "    f.write(s + '\\n')\n",
    "\n",
    "for i in range(107):\n",
    "    if i != 106:\n",
    "        mes = make_measure(measure_num = i)\n",
    "    else:\n",
    "        mes = make_measure(measure_num = i, is_last = 1)\n",
    "    for s in mes:\n",
    "        f.write(s + '\\n')\n",
    "f.close()"
   ]
  }
 ],
 "metadata": {
  "kernelspec": {
   "display_name": "Python 3",
   "language": "python",
   "name": "python3"
  },
  "language_info": {
   "codemirror_mode": {
    "name": "ipython",
    "version": 3
   },
   "file_extension": ".py",
   "mimetype": "text/x-python",
   "name": "python",
   "nbconvert_exporter": "python",
   "pygments_lexer": "ipython3",
   "version": "3.6.0"
  }
 },
 "nbformat": 4,
 "nbformat_minor": 2
}
