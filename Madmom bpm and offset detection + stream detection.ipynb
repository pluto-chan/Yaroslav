{
 "cells": [
  {
   "cell_type": "code",
   "execution_count": 1,
   "metadata": {
    "collapsed": true
   },
   "outputs": [],
   "source": [
    "import madmom as mm\n",
    "import numpy as np\n",
    "from madmom.features.beats import RNNBeatProcessor\n",
    "import madmom"
   ]
  },
  {
   "cell_type": "code",
   "execution_count": 2,
   "metadata": {
    "collapsed": false
   },
   "outputs": [
    {
     "name": "stderr",
     "output_type": "stream",
     "text": [
      "/anaconda/lib/python3.6/site-packages/scipy/io/wavfile.py:273: WavFileWarning: Chunk (non-data) not understood, skipping it.\n",
      "  WavFileWarning)\n"
     ]
    }
   ],
   "source": [
    "act = RNNBeatProcessor()('Not A Romance.wav')"
   ]
  },
  {
   "cell_type": "code",
   "execution_count": 3,
   "metadata": {
    "collapsed": false
   },
   "outputs": [],
   "source": [
    "proc = madmom.features.beats.BeatTrackingProcessor(fps=100)"
   ]
  },
  {
   "cell_type": "code",
   "execution_count": 4,
   "metadata": {
    "collapsed": false
   },
   "outputs": [],
   "source": [
    "stuff = proc(act)"
   ]
  },
  {
   "cell_type": "code",
   "execution_count": 5,
   "metadata": {
    "collapsed": false
   },
   "outputs": [
    {
     "name": "stdout",
     "output_type": "stream",
     "text": [
      "163.990175704\n"
     ]
    }
   ],
   "source": [
    "intervals = []\n",
    "for i in range(len(stuff)-1):\n",
    "    intervals.append(stuff[i+1] - stuff[i])\n",
    "\n",
    "from collections import Counter\n",
    "data = Counter(intervals)\n",
    "qqq = 0\n",
    "iii = 0\n",
    "for x in data.most_common():\n",
    "    qqq += x[0]*x[1]#*x[1]\n",
    "    iii += x[1]#*x[1]\n",
    "qqq /= iii\n",
    "print(60/qqq)"
   ]
  },
  {
   "cell_type": "code",
   "execution_count": 6,
   "metadata": {
    "collapsed": false
   },
   "outputs": [
    {
     "name": "stderr",
     "output_type": "stream",
     "text": [
      "/anaconda/lib/python3.6/site-packages/scipy/io/wavfile.py:273: WavFileWarning: Chunk (non-data) not understood, skipping it.\n",
      "  WavFileWarning)\n"
     ]
    }
   ],
   "source": [
    "proc1 = RNNBeatProcessor()\n",
    "probs = proc1('Not A Romance.wav')  "
   ]
  },
  {
   "cell_type": "code",
   "execution_count": 7,
   "metadata": {
    "collapsed": false
   },
   "outputs": [
    {
     "name": "stdout",
     "output_type": "stream",
     "text": [
      "0.707564\n",
      "164.0\n"
     ]
    }
   ],
   "source": [
    "print(max(probs))\n",
    "bpm = float(round(60/qqq))\n",
    "print(bpm)"
   ]
  },
  {
   "cell_type": "code",
   "execution_count": null,
   "metadata": {
    "collapsed": false
   },
   "outputs": [
    {
     "name": "stdout",
     "output_type": "stream",
     "text": [
      "151.15\n"
     ]
    }
   ],
   "source": [
    "for i in range(len(probs)):\n",
    "    if probs[i] >= max(probs): \n",
    "        offset = float(i)/float(100)\n",
    "print(offset)"
   ]
  },
  {
   "cell_type": "code",
   "execution_count": null,
   "metadata": {
    "collapsed": false
   },
   "outputs": [],
   "source": [
    "h = offset\n",
    "while h >= 0:\n",
    "    if h - 60.0/bpm-0.003 >= 0:\n",
    "        h = h - 60.0/bpm-0.003\n",
    "    \n",
    "print(h)"
   ]
  },
  {
   "cell_type": "code",
   "execution_count": null,
   "metadata": {
    "collapsed": false
   },
   "outputs": [],
   "source": [
    "print(stuff[0:10])"
   ]
  },
  {
   "cell_type": "code",
   "execution_count": null,
   "metadata": {
    "collapsed": false
   },
   "outputs": [],
   "source": [
    "import matplotlib.pyplot as plt\n",
    "import numpy as np\n",
    "import wave\n",
    "import sys\n",
    "\n",
    "\n",
    "spf = wave.open('Not a Romance.wav','r')\n",
    "\n",
    "#Extract Raw Audio from Wav File\n",
    "signal = spf.readframes(-1)\n",
    "signal = np.fromstring(signal, 'Int16')\n",
    "\n",
    "\n",
    "#If Stereo\n",
    "#if spf.getnchannels() == 2:\n",
    " #   sys.exit(0)\n",
    "\n",
    "plt.figure(1)\n",
    "plt.title('Signal Wave...')\n",
    "plt.plot(signal)\n",
    "plt.show()"
   ]
  },
  {
   "cell_type": "code",
   "execution_count": null,
   "metadata": {
    "collapsed": true
   },
   "outputs": [],
   "source": [
    "# We'll need numpy for some mathematical operations\n",
    "import numpy as np\n",
    "\n",
    "# matplotlib for displaying the output\n",
    "import matplotlib.pyplot as plt\n",
    "import matplotlib.style as ms\n",
    "ms.use('seaborn-muted')\n",
    "%matplotlib inline\n",
    "\n",
    "# and IPython.display for audio output\n",
    "import IPython.display\n",
    "\n",
    "# Librosa for audio\n",
    "import librosa\n",
    "# And the display module for visualization\n",
    "import librosa.display"
   ]
  },
  {
   "cell_type": "code",
   "execution_count": null,
   "metadata": {
    "collapsed": false
   },
   "outputs": [],
   "source": [
    "audio_path = 'Not A Romance.wav'\n",
    "\n",
    "y, sr = librosa.load(audio_path)"
   ]
  },
  {
   "cell_type": "code",
   "execution_count": null,
   "metadata": {
    "collapsed": true
   },
   "outputs": [],
   "source": [
    "y_harmonic, y_percussive = librosa.effects.hpss(y)"
   ]
  },
  {
   "cell_type": "code",
   "execution_count": null,
   "metadata": {
    "collapsed": false
   },
   "outputs": [],
   "source": [
    "# What do the spectrograms look like?\n",
    "# Let's make and display a mel-scaled power (energy-squared) spectrogram\n",
    "S_harmonic   = librosa.feature.melspectrogram(y_harmonic, sr=sr)\n",
    "S_percussive = librosa.feature.melspectrogram(y_percussive, sr=sr)\n",
    "\n",
    "# Convert to log scale (dB). We'll use the peak power as reference.\n",
    "log_Sh = librosa.power_to_db(S_harmonic, ref=np.max)\n",
    "log_Sp = librosa.power_to_db(S_percussive, ref=np.max)\n",
    "\n",
    "# Make a new figure\n",
    "plt.figure(figsize=(12,6))\n",
    "\n",
    "plt.subplot(2,1,1)\n",
    "# Display the spectrogram on a mel scale\n",
    "librosa.display.specshow(log_Sh, sr=sr, y_axis='mel')\n",
    "\n",
    "# Put a descriptive title on the plot\n",
    "plt.title('mel power spectrogram (Harmonic)')\n",
    "\n",
    "# draw a color bar\n",
    "plt.colorbar(format='%+02.0f dB')\n",
    "\n",
    "plt.subplot(2,1,2)\n",
    "librosa.display.specshow(log_Sp, sr=sr, x_axis='time', y_axis='mel')\n",
    "\n",
    "# Put a descriptive title on the plot\n",
    "plt.title('mel power spectrogram (Percussive)')\n",
    "\n",
    "# draw a color bar\n",
    "plt.colorbar(format='%+02.0f dB')\n",
    "\n",
    "# Make the figure layout compact\n",
    "plt.tight_layout()"
   ]
  },
  {
   "cell_type": "code",
   "execution_count": null,
   "metadata": {
    "collapsed": false,
    "scrolled": false
   },
   "outputs": [],
   "source": [
    "from scipy.signal import savgol_filter\n",
    "\n",
    "ack = []\n",
    "pe = log_Sp.transpose()\n",
    "print(pe.shape)\n",
    "for i in range(pe.shape[0]):\n",
    "    ack.append(pe[i][100:])\n",
    "#print(ack)\n",
    "sums = []\n",
    "print(len(ack))\n",
    "for i in range(len(ack)):\n",
    "    sums.append(ack[i].sum())\n",
    "m = min(sums)\n",
    "\n",
    "for i in range(len(sums)):\n",
    "    sums[i] -= m\n",
    "    sums[i] = sums[i]**2\n",
    "#for i in range(len(sums)):\n",
    " #   sums[i] -= sums.sum()/len(sums)\n",
    "\n",
    "ack2 = savgol_filter(sums, window_length=51, polyorder=2) \n",
    "#ack2 = sums\n",
    "\n",
    "#for i in range(len(sums)):\n",
    " #   sums[i] -= m*2\n",
    "print(max(ack2), min(ack2), max(ack2)/2, (max(ack2)+min(ack2))/2)\n",
    "import matplotlib.pyplot as plt\n",
    "plt.figure(figsize=(30,15))\n",
    "plt.plot(ack2)\n",
    "\n",
    "plt.show()"
   ]
  },
  {
   "cell_type": "code",
   "execution_count": null,
   "metadata": {
    "collapsed": false
   },
   "outputs": [],
   "source": [
    "beats_count = frames_to_time(len(ack2))\n",
    "\n",
    "def time_to_beat(bpm, first_beat, timestamp):\n",
    "    apprx_beat = (timestamp - first_beat)*(bpm/60.0)*4\n",
    "    #print(apprx_beat, timestamp)\n",
    "    return apprx_beat\n",
    "    "
   ]
  },
  {
   "cell_type": "code",
   "execution_count": null,
   "metadata": {
    "collapsed": false
   },
   "outputs": [],
   "source": [
    "import gf10\n",
    "import pickle\n",
    "\n",
    "with open('markov_steps.pkl', 'rb') as fid:\n",
    "    model = pickle.load(fid)\n",
    "\n",
    "def make_stream(measure_count, beat):\n",
    "    line = gf10.generator3000(total = measure_count, tact = beat, text_model = model)\n",
    "    final_line=gf10.unchainus(line)\n",
    "    stream = final_line.split('\\n')[:-1]\n",
    "    return stream\n"
   ]
  },
  {
   "cell_type": "code",
   "execution_count": null,
   "metadata": {
    "collapsed": false,
    "scrolled": false
   },
   "outputs": [],
   "source": [
    "from librosa.core import frames_to_time\n",
    "#from statistics import median_low\n",
    "idea = []\n",
    "\n",
    "#mean_mel = median_low(ack2)\n",
    "mean_mel = (max(ack2) + min(ack2))/2\n",
    "print(mean_mel)\n",
    "stream_flag = 0\n",
    "stream = []\n",
    "ass = []\n",
    "for lvl in range(len(ack2)):\n",
    "    if ack2[lvl] > mean_mel and stream_flag == 0:\n",
    "        stream_flag = 1\n",
    "        stream.append(lvl)\n",
    "        ass.append\n",
    "    elif ack2[lvl] < mean_mel and stream_flag == 1:\n",
    "        stream_flag = 0\n",
    "        stream.append(lvl)\n",
    "        stream = frames_to_time(stream[:])\n",
    "        #print(stream)\n",
    "        idea.append(stream)\n",
    "        stream = []\n",
    "        \n",
    "\n",
    "for k in idea:\n",
    "    k[0] = round(time_to_beat(164, 0.20287804878180116, k[0]))\n",
    "    k[1] = round(time_to_beat(164, 0.20287804878180116, k[1]))\n",
    "    #print(k)\n",
    "i = 1\n",
    "while i < len(idea):\n",
    "    if (idea[i][0]-1 == idea[i-1][1]) or (idea[i][0] == idea[i-1][1]):\n",
    "        idea[i-1][1] = idea[i][1]\n",
    "        idea.pop(i)\n",
    "    else:\n",
    "        i += 1\n",
    "\n",
    "for k in idea:\n",
    "    print(k)\n",
    "        "
   ]
  },
  {
   "cell_type": "code",
   "execution_count": null,
   "metadata": {
    "collapsed": false
   },
   "outputs": [],
   "source": [
    "bpm = 164.0\n",
    "track_len = (frames_to_time(len(ack2))-0.203)/60.0*bpm\n",
    "print(frames_to_time(len(ack2))-0.203)\n",
    "print(frames_to_time(len(ack2)), track_len)\n",
    "b = []\n",
    "stream_flag = 0\n",
    "stream = []\n",
    "\n",
    "for i in range(int(track_len)*4):\n",
    "    \n",
    "    for j in range(len(idea)):\n",
    "        if i == int(idea[j][0]):\n",
    "            stream_flag = 1\n",
    "            stream = make_stream(idea[j][1]-idea[j][0], 16)\n",
    "    k = 0\n",
    "    if stream_flag == 0:\n",
    "        b.append('0000')\n",
    "    else:\n",
    "        b.append(stream[k])\n",
    "        k += 1\n",
    "    \n",
    "    for j in range(len(idea)):\n",
    "        if i == int(idea[j][1]):\n",
    "            stream_flag = 0\n",
    "    print(i, stream_flag)\n",
    "    if i%16 == 0:\n",
    "        b.append(',')"
   ]
  },
  {
   "cell_type": "code",
   "execution_count": null,
   "metadata": {
    "collapsed": false,
    "scrolled": true
   },
   "outputs": [],
   "source": [
    "f = open('zzz.txt', 'w')\n",
    "for s in b:\n",
    "    f.write(s+'\\n')\n",
    "    print(s)\n",
    "    \n",
    "f.close()"
   ]
  },
  {
   "cell_type": "code",
   "execution_count": null,
   "metadata": {
    "collapsed": false
   },
   "outputs": [],
   "source": [
    "make_stream(2, 4)\n"
   ]
  },
  {
   "cell_type": "code",
   "execution_count": null,
   "metadata": {
    "collapsed": true
   },
   "outputs": [],
   "source": []
  }
 ],
 "metadata": {
  "kernelspec": {
   "display_name": "Python 3",
   "language": "python",
   "name": "python3"
  },
  "language_info": {
   "codemirror_mode": {
    "name": "ipython",
    "version": 3
   },
   "file_extension": ".py",
   "mimetype": "text/x-python",
   "name": "python",
   "nbconvert_exporter": "python",
   "pygments_lexer": "ipython3",
   "version": "3.6.0"
  }
 },
 "nbformat": 4,
 "nbformat_minor": 2
}
