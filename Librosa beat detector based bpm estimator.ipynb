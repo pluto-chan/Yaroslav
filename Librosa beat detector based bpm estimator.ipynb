{
 "cells": [
  {
   "cell_type": "code",
   "execution_count": null,
   "metadata": {
    "collapsed": true
   },
   "outputs": [],
   "source": [
    "import librosa.display\n",
    "import librosa"
   ]
  },
  {
   "cell_type": "code",
   "execution_count": null,
   "metadata": {
    "collapsed": false
   },
   "outputs": [],
   "source": [
    "audio_path = 'song.ogg'\n",
    "\n",
    "y, sr = librosa.load(audio_path)"
   ]
  },
  {
   "cell_type": "code",
   "execution_count": null,
   "metadata": {
    "collapsed": true
   },
   "outputs": [],
   "source": [
    "import numpy as np\n",
    "import matplotlib.pyplot as plt\n",
    "import matplotlib.style as ms\n",
    "%matplotlib inline"
   ]
  },
  {
   "cell_type": "code",
   "execution_count": null,
   "metadata": {
    "collapsed": false
   },
   "outputs": [],
   "source": [
    "tempo, beats = librosa.beat.beat_track(y, sr=sr)"
   ]
  },
  {
   "cell_type": "code",
   "execution_count": null,
   "metadata": {
    "collapsed": false,
    "scrolled": true
   },
   "outputs": [],
   "source": [
    "beat_times = librosa.frames_to_time(beats, sr=sr)\n",
    "intervals = []\n",
    "for i in range(len(beat_times)-1):\n",
    "    intervals.append(beat_times[i+1] - beat_times[i])\n",
    "\n",
    "from collections import Counter\n",
    "data = Counter(intervals)\n",
    "print(data.most_common())\n",
    "qqq = 0\n",
    "iii = 0\n",
    "for x in data.most_common()[0:5]:\n",
    "    qqq += x[0]*x[1]\n",
    "    iii += x[1]\n",
    "qqq /= iii\n",
    "print(60/qqq)"
   ]
  }
 ],
 "metadata": {
  "kernelspec": {
   "display_name": "Python 3",
   "language": "python",
   "name": "python3"
  },
  "language_info": {
   "codemirror_mode": {
    "name": "ipython",
    "version": 3
   },
   "file_extension": ".py",
   "mimetype": "text/x-python",
   "name": "python",
   "nbconvert_exporter": "python",
   "pygments_lexer": "ipython3",
   "version": "3.6.0"
  }
 },
 "nbformat": 4,
 "nbformat_minor": 2
}
