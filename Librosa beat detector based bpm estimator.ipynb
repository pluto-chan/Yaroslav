{
 "cells": [
  {
   "cell_type": "code",
   "execution_count": 1,
   "metadata": {
    "collapsed": true
   },
   "outputs": [],
   "source": [
    "import librosa.display\n",
    "import librosa"
   ]
  },
  {
   "cell_type": "code",
   "execution_count": 66,
   "metadata": {
    "collapsed": false
   },
   "outputs": [],
   "source": [
    "audio_path = 'Not a Romance.ogg'\n",
    "\n",
    "y, sr = librosa.load(audio_path)"
   ]
  },
  {
   "cell_type": "code",
   "execution_count": 67,
   "metadata": {
    "collapsed": true
   },
   "outputs": [],
   "source": [
    "# We'll need numpy for some mathematical operations\n",
    "import numpy as np\n",
    "\n",
    "# matplotlib for displaying the output\n",
    "import matplotlib.pyplot as plt\n",
    "import matplotlib.style as ms\n",
    "ms.use('seaborn-muted')\n",
    "%matplotlib inline\n",
    "\n",
    "# and IPython.display for audio output\n",
    "import IPython.display\n",
    "\n",
    "from __future__ import print_function"
   ]
  },
  {
   "cell_type": "code",
   "execution_count": 68,
   "metadata": {
    "collapsed": true
   },
   "outputs": [],
   "source": [
    "#y_harmonic, y_percussive = librosa.effects.hpss(y)"
   ]
  },
  {
   "cell_type": "code",
   "execution_count": 69,
   "metadata": {
    "collapsed": false
   },
   "outputs": [],
   "source": [
    "tempo, beats = librosa.beat.beat_track(y, sr=sr)\n"
   ]
  },
  {
   "cell_type": "code",
   "execution_count": 70,
   "metadata": {
    "collapsed": false,
    "scrolled": true
   },
   "outputs": [
    {
     "name": "stdout",
     "output_type": "stream",
     "text": [
      "[(0.37151927437641774, 102), (0.37151927437642485, 97), (0.37151927437641064, 77), (0.34829931972788586, 42), (0.34829931972789296, 23), (0.34829931972790007, 16), (0.37151927437639642, 14), (0.34829931972789119, 9), (0.37151927437641419, 6), (0.37151927437641685, 5), (0.37151927437641596, 5), (0.34829931972791428, 4), (0.3715192743764173, 3), (0.34829931972788941, 3), (0.4179591836734744, 3), (0.41795918367346019, 2), (0.32507936507936508, 1), (0.37151927437641707, 1), (0.39473922902494341, 1), (0.3482993197278903, 1), (0.4643990929705204, 1), (0.44117913832199562, 1), (0.44117913832199918, 1)]\n",
      "163.446238523\n"
     ]
    }
   ],
   "source": [
    "beat_times = librosa.frames_to_time(beats, sr=sr)\n",
    "intervals = []\n",
    "for i in range(len(beat_times)-1):\n",
    "    intervals.append(beat_times[i+1] - beat_times[i])\n",
    "\n",
    "from collections import Counter\n",
    "data = Counter(intervals)\n",
    "print(data.most_common())\n",
    "qqq = 0\n",
    "iii = 0\n",
    "for x in data.most_common()[0:5]:\n",
    "    qqq += x[0]*x[1]#*x[1]\n",
    "    iii += x[1]#*x[1]\n",
    "qqq /= iii\n",
    "print(60/qqq)"
   ]
  },
  {
   "cell_type": "code",
   "execution_count": null,
   "metadata": {
    "collapsed": true
   },
   "outputs": [],
   "source": []
  },
  {
   "cell_type": "code",
   "execution_count": null,
   "metadata": {
    "collapsed": true
   },
   "outputs": [],
   "source": []
  }
 ],
 "metadata": {
  "kernelspec": {
   "display_name": "Python 3",
   "language": "python",
   "name": "python3"
  },
  "language_info": {
   "codemirror_mode": {
    "name": "ipython",
    "version": 3
   },
   "file_extension": ".py",
   "mimetype": "text/x-python",
   "name": "python",
   "nbconvert_exporter": "python",
   "pygments_lexer": "ipython3",
   "version": "3.6.0"
  }
 },
 "nbformat": 4,
 "nbformat_minor": 2
}
